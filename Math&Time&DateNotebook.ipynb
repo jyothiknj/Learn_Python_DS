{
 "cells": [
  {
   "cell_type": "code",
   "execution_count": 3,
   "metadata": {},
   "outputs": [
    {
     "name": "stdout",
     "output_type": "stream",
     "text": [
      "5.5\n",
      "16.0\n"
     ]
    }
   ],
   "source": [
    "import math\n",
    "print(math.fabs(-5.5))\n",
    "print(math.pow(2,4))"
   ]
  },
  {
   "cell_type": "code",
   "execution_count": 8,
   "metadata": {},
   "outputs": [
    {
     "name": "stdout",
     "output_type": "stream",
     "text": [
      "4\n"
     ]
    }
   ],
   "source": [
    "print(math.gcd(20,28))"
   ]
  },
  {
   "cell_type": "code",
   "execution_count": 10,
   "metadata": {},
   "outputs": [
    {
     "name": "stdout",
     "output_type": "stream",
     "text": [
      "13.74772708486752\n"
     ]
    }
   ],
   "source": [
    "print(math.sqrt(4**3+5**3))"
   ]
  },
  {
   "cell_type": "code",
   "execution_count": 12,
   "metadata": {},
   "outputs": [
    {
     "name": "stdout",
     "output_type": "stream",
     "text": [
      "0\n"
     ]
    }
   ],
   "source": [
    "print(45%3)"
   ]
  },
  {
   "cell_type": "code",
   "execution_count": 14,
   "metadata": {},
   "outputs": [
    {
     "name": "stdout",
     "output_type": "stream",
     "text": [
      "8.333333333333334\n",
      "8\n"
     ]
    }
   ],
   "source": [
    "print(50/6)\n",
    "print(50//6)"
   ]
  },
  {
   "cell_type": "code",
   "execution_count": 1,
   "metadata": {},
   "outputs": [
    {
     "name": "stdout",
     "output_type": "stream",
     "text": [
      "48.0\n",
      "48.0\n",
      "4.0\n",
      "1.0\n",
      "3.0\n"
     ]
    }
   ],
   "source": [
    "print(12*8/2)\n",
    "print(8/2*12)\n",
    "print(8/2**3*4)\n",
    "print(12/4/3)\n",
    "print(12/4)"
   ]
  },
  {
   "cell_type": "code",
   "execution_count": 3,
   "metadata": {},
   "outputs": [
    {
     "name": "stdout",
     "output_type": "stream",
     "text": [
      "Actual 213/2:  106.5\n",
      "Truncate 213/2:  106\n",
      "Ceileing 213/2:  107\n",
      "Floor 213/2:  106\n"
     ]
    }
   ],
   "source": [
    "import math\n",
    "print(\"Actual 213/2: \",213/2)\n",
    "print(\"Truncate 213/2: \",math.trunc(213/2))\n",
    "print(\"Ceileing 213/2: \",math.ceil(213/2))\n",
    "print(\"Floor 213/2: \",math.floor(213/2))"
   ]
  },
  {
   "cell_type": "code",
   "execution_count": 51,
   "metadata": {},
   "outputs": [
    {
     "name": "stdout",
     "output_type": "stream",
     "text": [
      "45\n",
      "42\n"
     ]
    }
   ],
   "source": [
    "import random\n",
    "print(random.randint(1,50))\n",
    "print(random.randrange(2,50,2))"
   ]
  },
  {
   "cell_type": "code",
   "execution_count": 72,
   "metadata": {},
   "outputs": [
    {
     "name": "stdout",
     "output_type": "stream",
     "text": [
      "7 Hearts\n",
      "['Hearts', 'Diamonds', 'Clubs', 'Spades']\n"
     ]
    }
   ],
   "source": [
    "import random\n",
    "card_number=['Ace',2,3,4,5,6,7,8,9,'Jack','Queen','King']\n",
    "card_type=['Clubs','Diamonds','Hearts','Spades']\n",
    "print(random.choice(card_number),random.choice(card_type))\n",
    "random.shuffle(card_type)\n",
    "print(card_type)"
   ]
  },
  {
   "cell_type": "code",
   "execution_count": 91,
   "metadata": {},
   "outputs": [
    {
     "name": "stdout",
     "output_type": "stream",
     "text": [
      "10:50:34.000900\n",
      "18:39:34.000900\n",
      "18\n"
     ]
    }
   ],
   "source": [
    "import datetime\n",
    "import random\n",
    "t=datetime.time(hour=10,minute=50,second=34,microsecond=900)\n",
    "print(t)\n",
    "t=t.replace(hour=random.randint(0,23),minute=random.randint(0,59))\n",
    "print(t)\n",
    "print(t.hour)"
   ]
  },
  {
   "cell_type": "code",
   "execution_count": 102,
   "metadata": {},
   "outputs": [
    {
     "name": "stdout",
     "output_type": "stream",
     "text": [
      "2050-09-30\n",
      "2018-01-31\n"
     ]
    }
   ],
   "source": [
    "import datetime\n",
    "d1 = datetime.date(year=2050,day=30,month=9)\n",
    "print(d1)\n",
    "print(datetime.date.today())"
   ]
  },
  {
   "cell_type": "code",
   "execution_count": 116,
   "metadata": {},
   "outputs": [
    {
     "name": "stdout",
     "output_type": "stream",
     "text": [
      "2000-12-04 16:22:00\n",
      "2000-12-04\n",
      "16:22:00\n",
      "2018-01-31\n",
      "19:30:36.239885\n"
     ]
    }
   ],
   "source": [
    "import datetime\n",
    "d2=datetime.datetime(year=2000,month=12,day=4,hour=16,minute=22)\n",
    "print(d2)\n",
    "print(d2.date())\n",
    "print(d2.time())\n",
    "d3=datetime.datetime.today()\n",
    "print(d3.date())\n",
    "print(d3.time())"
   ]
  },
  {
   "cell_type": "code",
   "execution_count": 2,
   "metadata": {},
   "outputs": [
    {
     "name": "stdout",
     "output_type": "stream",
     "text": [
      "2012-03-28 12:55:10.000030\n"
     ]
    }
   ],
   "source": [
    "from datetime import datetime,time,date\n",
    "d=date(month=3,year=2012,day=28)\n",
    "t=time(12,55,10,30)\n",
    "dt=datetime.combine(date=d,time=t)\n",
    "print(dt)"
   ]
  },
  {
   "cell_type": "code",
   "execution_count": 6,
   "metadata": {},
   "outputs": [
    {
     "name": "stdout",
     "output_type": "stream",
     "text": [
      "2010-03-12 23:44:00\n",
      "Mar 12 Friday 2010 11 44 PM\n"
     ]
    }
   ],
   "source": [
    "from datetime import datetime\n",
    "dt=datetime(year=2010,month=3,day=12,hour=23,minute=44)\n",
    "print(dt)\n",
    "format_dt=dt.strftime(\"%b %d %A %Y %I %M %p\")\n",
    "print(format_dt)"
   ]
  },
  {
   "cell_type": "code",
   "execution_count": 9,
   "metadata": {},
   "outputs": [
    {
     "name": "stdout",
     "output_type": "stream",
     "text": [
      "Oct 23, 2018\n",
      "10/23/18\n",
      "23/October/2018\n",
      "Tuesday October 23\n"
     ]
    }
   ],
   "source": [
    "import datetime\n",
    "# 1)Oct 23, 2018\n",
    "# 2) 10/23/18\n",
    "# 3) 23/October/2018\n",
    "# 4) Tuesday October 23\n",
    "\n",
    "dt = datetime.date(day=23, month=10,year=2018)\n",
    "format_dt=dt.strftime(\"%b %d, %Y\")\n",
    "print(format_dt)\n",
    "format_dt=dt.strftime(\"%m/%d/%y\")\n",
    "print(format_dt)\n",
    "format_dt=dt.strftime(\"%d/%B/%Y\")\n",
    "print(format_dt)\n",
    "format_dt=dt.strftime(\"%A %B %d\")\n",
    "print(format_dt)"
   ]
  },
  {
   "cell_type": "code",
   "execution_count": 13,
   "metadata": {},
   "outputs": [
    {
     "name": "stdout",
     "output_type": "stream",
     "text": [
      "2010-03-22 00:00:00\n"
     ]
    }
   ],
   "source": [
    "dt=datetime.datetime(month=3,day=22,year=2010)\n",
    "print(dt)"
   ]
  },
  {
   "cell_type": "code",
   "execution_count": 24,
   "metadata": {},
   "outputs": [
    {
     "name": "stdout",
     "output_type": "stream",
     "text": [
      "293121088.744889\n",
      "3392 days, 14:31:28.744889\n",
      "609300.0\n",
      "7\n",
      "152\n"
     ]
    }
   ],
   "source": [
    "dt1=datetime.datetime.today()\n",
    "dt2=datetime.datetime(year=2008,month=10,day=22,hour=9,minute=32)\n",
    "print((dt1-dt2).total_seconds())\n",
    "print(dt1-dt2)\n",
    "dt3=datetime.timedelta(hours=1,minutes=15,weeks=1)\n",
    "print(dt3.total_seconds())\n",
    "print(dt3.days)\n",
    "dt4=datetime.datetime(month=7,year=2018,day=8)\n",
    "print((dt4-dt1).days)"
   ]
  },
  {
   "cell_type": "code",
   "execution_count": 29,
   "metadata": {},
   "outputs": [
    {
     "name": "stdout",
     "output_type": "stream",
     "text": [
      "2018-02-05 00:35:02.612384 After 100 Days:  2018-05-16 00:35:02.612384\n",
      "2018-02-05 00:35:02.612384 After 200 days:  2018-08-24 00:35:02.612384\n",
      "300 days, 0:00:00\n",
      "0.5\n"
     ]
    }
   ],
   "source": [
    "dt1=datetime.datetime.today()\n",
    "delta1=datetime.timedelta(days=100)\n",
    "delta2=delta1*2\n",
    "print(dt1,\"After 100 Days: \",(dt1+delta1))\n",
    "print(dt1,\"After 200 days: \",(dt1+delta2))\n",
    "print((delta1+delta2))\n",
    "print((delta1/delta2))"
   ]
  },
  {
   "cell_type": "code",
   "execution_count": 34,
   "metadata": {},
   "outputs": [
    {
     "name": "stdout",
     "output_type": "stream",
     "text": [
      "Birthday1 is older\n"
     ]
    }
   ],
   "source": [
    "bd1=datetime.datetime(year=2010,month=3,day=23)\n",
    "bd2=datetime.datetime(year=2010,month=3,day=23,hour=1)\n",
    "if(bd1>bd2):\n",
    "    print(\"Birthday2 is older\")\n",
    "elif(bd1<bd2):\n",
    "    print(\"Birthday1 is older\")\n",
    "else:\n",
    "    print(\"Birthdays are same\")"
   ]
  },
  {
   "cell_type": "code",
   "execution_count": 39,
   "metadata": {},
   "outputs": [
    {
     "name": "stdout",
     "output_type": "stream",
     "text": [
      "Independence day is not passed\n"
     ]
    }
   ],
   "source": [
    "# [ ] Write a program to find out if 4th of July of this year has passed or not\n",
    "\n",
    "indday = datetime.date(month=7,day=4,year=2018)\n",
    "today=datetime.date.today()\n",
    "if(today>indday):\n",
    "    print(\"Independence day is passed\")\n",
    "elif(today<indday):\n",
    "    print(\"Independence day is not passed\")\n",
    "else:\n",
    "    print(\"Today is independence day\")"
   ]
  },
  {
   "cell_type": "code",
   "execution_count": 53,
   "metadata": {},
   "outputs": [
    {
     "name": "stdout",
     "output_type": "stream",
     "text": [
      "We are closer to June solstice\n",
      "Days left to December solstice:  319\n",
      "Days left to June solstice:  136\n"
     ]
    }
   ],
   "source": [
    "# [ ] Complete the following program to find out if you are\n",
    "#closer to the current year's June or December solstice\n",
    "\n",
    "now=datetime.date.today()\n",
    "dec_solcitice = datetime.date(day=21,month=12,year=1)\n",
    "dec_solcitice=  dec_solcitice.replace(year=(now.year))\n",
    "jun_solcitice = datetime.date(day=21,month=6,year=1)\n",
    "jun_solcitice = jun_solcitice.replace(year=(now.year))\n",
    "\n",
    "count_jun=jun_solcitice-now\n",
    "count_dec=dec_solcitice-now\n",
    "if(count_jun>count_dec):\n",
    "    print(\"We are closer to December solstice\")\n",
    "else:\n",
    "    print(\"We are closer to June solstice\")\n",
    "\n",
    "if(count_dec.days<0):\n",
    "    print(\"December Solstice Day is already passed\")\n",
    "elif(count_dec.days>0):\n",
    "    print(\"Days left to December solstice: \",count_dec.days)\n",
    "else:\n",
    "    print(\"Today is December solstice\")\n",
    "    \n",
    "if(count_jun.days<0):\n",
    "    print(\"June Solstice Day is already passed\")\n",
    "elif(count_jun.days>0):\n",
    "    print(\"Days left to June solstice: \",count_jun.days)\n",
    "else:\n",
    "    print(\"Today is June solstice\")\n",
    "        "
   ]
  }
 ],
 "metadata": {
  "kernelspec": {
   "display_name": "Python 3.6",
   "language": "python",
   "name": "python36"
  },
  "language_info": {
   "codemirror_mode": {
    "name": "ipython",
    "version": 3
   },
   "file_extension": ".py",
   "mimetype": "text/x-python",
   "name": "python",
   "nbconvert_exporter": "python",
   "pygments_lexer": "ipython3",
   "version": "3.6.3"
  }
 },
 "nbformat": 4,
 "nbformat_minor": 2
}
