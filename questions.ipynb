{
 "cells": [
  {
   "cell_type": "code",
   "execution_count": 5,
   "metadata": {},
   "outputs": [
    {
     "name": "stdout",
     "output_type": "stream",
     "text": [
      "[0, 1]\n",
      "Address of list: 140149074816840\n",
      "[0, 1, 0, 1, 4]\n",
      "Address of list: 140149074816840\n",
      "[3, 0, 6, 0, 1, 4]\n",
      "Address of list: 140149074029256\n",
      "[0, 1, 0, 1, 4, 0, 1, 4, 9, 16]\n",
      "Address of list: 140149074816840\n"
     ]
    }
   ],
   "source": [
    "def f(x,l=[]):\n",
    "    for i in range(x):\n",
    "        l.append(i*i)\n",
    "    print(l)\n",
    "    print(\"Address of list:\",id(l))\n",
    "f(2)\n",
    "f(3)\n",
    "f(3,[3,0,6])\n",
    "f(5)\n"
   ]
  },
  {
   "cell_type": "code",
   "execution_count": 20,
   "metadata": {},
   "outputs": [
    {
     "name": "stdout",
     "output_type": "stream",
     "text": [
      "Arguments:  ()\n",
      "Keyword Arguments: {}\n",
      "Arguments:  ([0, 1, 2],)\n",
      "Keyword Arguments: {}\n",
      "Arguments:  ([0, 1, 2], 4)\n",
      "Keyword Arguments: {}\n",
      "Arguments:  (1, 2, {4, 5}, (6, 9))\n",
      "Keyword Arguments: {'a': 1, 'b': 2, 'c': 3}\n",
      "Arguments:  (1, 2, 3)\n",
      "Keyword Arguments: {'a': 7, 'b': 8, 'c': 9}\n",
      "Arguments:  ([1, 2, 3], {'a': 7, 'b': 8, 'c': 9})\n",
      "Keyword Arguments: {}\n",
      "Arguments:  ()\n",
      "Keyword Arguments: {'q': 'winning', 'a': 7, 'b': 8, 'c': 9}\n",
      "Arguments:  (1, 2, 4, 5, 6)\n",
      "Keyword Arguments: {}\n",
      "Arguments:  (1, 2, 4, 5, 6)\n",
      "Keyword Arguments: {'q': 'winning', 'a': 7, 'b': 8, 'c': 9}\n"
     ]
    }
   ],
   "source": [
    "# illustration for *args and **kwargs\n",
    "\n",
    "def f(*args,**kwargs):\n",
    "    print(\"Arguments: \",args)   # *args makes all the arguments a tuple\n",
    "    print(\"Keyword Arguments:\",kwargs) # **kwargs makes all keyword args a dictionary\n",
    "    \n",
    "l = [1,2,3]\n",
    "t = (4,5,6)\n",
    "d = {'a':7,'b':8,'c':9}\n",
    "f()\n",
    "f([0,1,2])\n",
    "f([0,1,2],4)\n",
    "f(1,2,{4,5},(6,9),a=1,b=2,c=3)\n",
    "f(*l,**d)\n",
    "f(l,d)\n",
    "f(q=\"winning\",**d) \n",
    "f(1,2,*t)\n",
    "f(1,2,*t,q=\"winning\",**d)"
   ]
  },
  {
   "cell_type": "code",
   "execution_count": 3,
   "metadata": {},
   "outputs": [
    {
     "name": "stdout",
     "output_type": "stream",
     "text": [
      "go A go!!\n",
      "go A go!!\n",
      "go B go\n",
      "go A go!!\n",
      "go C go\n",
      "pause A pause!!\n",
      "pause B pause\n",
      "go A go!!\n",
      "go C go\n",
      "go B go\n",
      "go D go\n"
     ]
    }
   ],
   "source": [
    "class A(object):\n",
    "    def go(self):\n",
    "        print(\"go A go!!\")\n",
    "    def pause(self):\n",
    "        print(\"pause A pause!!\")\n",
    "    def stop(self):\n",
    "        print(\"stop A stop!!\")\n",
    "        \n",
    "class B(A):\n",
    "    def go(self):\n",
    "        super(B,self).go()\n",
    "        print(\"go B go\")\n",
    "    def pause(self):\n",
    "        super(B,self).pause()\n",
    "        print(\"pause B pause\")\n",
    "        \n",
    "class C(A):\n",
    "    def go(self):\n",
    "        super(C,self).go()\n",
    "        print(\"go C go\")\n",
    "        \n",
    "class D(B,C):\n",
    "    def go(self):\n",
    "        super(D,self).go()\n",
    "        print(\"go D go\")\n",
    "\n",
    "        \n",
    "a=A()\n",
    "b=B()\n",
    "c=C()\n",
    "d=D()\n",
    "a.go()\n",
    "b.go()\n",
    "c.go()\n",
    "b.pause()\n",
    "d.go()"
   ]
  }
 ],
 "metadata": {
  "kernelspec": {
   "display_name": "Python 3.6",
   "language": "python",
   "name": "python36"
  },
  "language_info": {
   "codemirror_mode": {
    "name": "ipython",
    "version": 3
   },
   "file_extension": ".py",
   "mimetype": "text/x-python",
   "name": "python",
   "nbconvert_exporter": "python",
   "pygments_lexer": "ipython3",
   "version": "3.6.3"
  }
 },
 "nbformat": 4,
 "nbformat_minor": 2
}
