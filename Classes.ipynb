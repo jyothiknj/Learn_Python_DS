{
 "cells": [
  {
   "cell_type": "code",
   "execution_count": 4,
   "metadata": {},
   "outputs": [
    {
     "name": "stdout",
     "output_type": "stream",
     "text": [
      "Name: Orange\n",
      "Sound: Rawww\n",
      "Type: Zebra\n",
      "None\n"
     ]
    }
   ],
   "source": [
    "#Classes\n",
    "\n",
    "class Animal:\n",
    "    def __init__(self,name,types,sound):\n",
    "        self.name=name\n",
    "        self.types=types\n",
    "        self.sound=sound\n",
    "        \n",
    "    def print_animal(self):\n",
    "        print(\"Name: \"+self.name)\n",
    "        print(\"Sound: \"+self.sound)\n",
    "        print(\"Type: \"+self.types)\n",
    "    \n",
    "new_animal=Animal('Orange','Zebra','Rawww')\n",
    "print(new_animal.print_animal())"
   ]
  },
  {
   "cell_type": "code",
   "execution_count": 19,
   "metadata": {},
   "outputs": [
    {
     "name": "stdout",
     "output_type": "stream",
     "text": [
      "Number:  45\n",
      "Type:  integer\n",
      "None\n",
      "The number 45 is of type integer\n",
      "The number 45.8 is of type float\n",
      "The number -55 is of type float\n"
     ]
    }
   ],
   "source": [
    "#one more way of assigning object variable values using kwargs\n",
    "# PYTHON DOES NOT HAVE PRIVATE VARIABLES\n",
    "class Numbers:\n",
    "    y=[4,5,6,7] #class variable same for all objects..its not encapsulated\n",
    "    def __init__(self,**kwargs):\n",
    "        self.type_num= kwargs['type_num'] if 'type_num' in kwargs else 'float'  #object variables that are encapsulated.\n",
    "        self.number = kwargs['number']\n",
    "    def print_numbers(self):\n",
    "        print(\"Number: \",self.number)\n",
    "        print(\"Type: \",self.type_num)\n",
    "    def __str__(self):\n",
    "        return f'The number {self.number} is of type {self.type_num}'\n",
    "new_num = Numbers(number = 45, type_num='integer')\n",
    "new_num2 = Numbers(number = 45.8,type_num='float')\n",
    "new_num3 = Numbers(number = -55) # uses the default value 'float' for type_num\n",
    "print(new_num.print_numbers())\n",
    "print(new_num)\n",
    "print(new_num2)\n",
    "print(new_num3)"
   ]
  },
  {
   "cell_type": "code",
   "execution_count": 22,
   "metadata": {},
   "outputs": [
    {
     "name": "stdout",
     "output_type": "stream",
     "text": [
      "esreveR ti ekaM\n",
      "gnirtS esreveR ot dohteM\n"
     ]
    }
   ],
   "source": [
    "class RevStr(str):\n",
    "    def __str__(self):\n",
    "        return(self[::-1])\n",
    "\n",
    "def rev_str(string):\n",
    "    return(string[::-1])\n",
    "    \n",
    "hello = RevStr(\"Make it Reverse\")\n",
    "print(hello)\n",
    "hello2 = rev_str(\"Method to Reverse String\")\n",
    "print(hello2)"
   ]
  },
  {
   "cell_type": "code",
   "execution_count": null,
   "metadata": {},
   "outputs": [],
   "source": [
    "# iterator\n",
    "\n",
    "class inclusive_range:\n",
    "    def __init__(self,*args):\n",
    "        num_args=len(args)\n",
    "        self.start=0\n",
    "        self.step=1\n",
    "        if num_args<1:\n",
    "            raise TypeError(f'Expected atlease 1 argument. Got {num_args}')\n",
    "        elif num_args == 1:\n",
    "            self.stop=args[0]\n",
    "        elif num_args == 2:\n",
    "            (self.start,self.stop) = args\n",
    "        elif num_args == 3:\n",
    "            self.start=args[0]\n",
    "            self.stop= args[1]\n",
    "            self.step = args[2]\n",
    "        else:\n",
    "            raise TypeError(f'Expected atmost 3 arguments. Got {num_args}')\n",
    "        self.next = self.start\n",
    "        \n",
    "    def __iter__(self):\n",
    "        return(self)\n",
    "    def __next__(self):\n",
    "        if self.next > self.stop:\n",
    "            raise StopIteration\n",
    "        else:\n",
    "            r = self.next\n",
    "            self.next += self.step\n",
    "            return r\n",
    "\n",
    "        \n",
    "for n in inclusive_range(10,25,3):\n",
    "    print(n, end=' ')\n",
    "print()\n"
   ]
  },
  {
   "cell_type": "code",
   "execution_count": 2,
   "metadata": {},
   "outputs": [
    {
     "name": "stdout",
     "output_type": "stream",
     "text": [
      "unhsiJ iH\n"
     ]
    }
   ],
   "source": [
    "class MyString(str):\n",
    "    def __str__(self):\n",
    "        return self[::-1]\n",
    "\n",
    "my_str=MyString(\"Hi Jishnu\")\n",
    "print(my_str)\n"
   ]
  },
  {
   "cell_type": "code",
   "execution_count": 6,
   "metadata": {},
   "outputs": [
    {
     "name": "stdout",
     "output_type": "stream",
     "text": [
      "Python version info 3.6.3\n",
      "linux\n",
      "/home/nbuser/anaconda3_501/bin:/usr/local/bin:/usr/local/sbin:/usr/local/bin:/usr/sbin:/usr/bin:/sbin:/bin:/snap/bin\n",
      "/home/nbuser/library\n"
     ]
    }
   ],
   "source": [
    "import sys,os\n",
    "v=sys.version_info\n",
    "y=sys.platform\n",
    "z=os.getenv(\"PATH\")\n",
    "t=os.getcwd()\n",
    "print(\"Python version info {}.{}.{}\".format(*v))\n",
    "print(y)\n",
    "print(z)\n",
    "print(t)"
   ]
  }
 ],
 "metadata": {
  "kernelspec": {
   "display_name": "Python 3.6",
   "language": "python",
   "name": "python36"
  },
  "language_info": {
   "codemirror_mode": {
    "name": "ipython",
    "version": 3
   },
   "file_extension": ".py",
   "mimetype": "text/x-python",
   "name": "python",
   "nbconvert_exporter": "python",
   "pygments_lexer": "ipython3",
   "version": "3.6.3"
  }
 },
 "nbformat": 4,
 "nbformat_minor": 2
}
